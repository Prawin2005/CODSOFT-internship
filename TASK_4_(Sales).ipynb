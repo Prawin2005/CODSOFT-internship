{
  "nbformat": 4,
  "nbformat_minor": 0,
  "metadata": {
    "colab": {
      "provenance": [],
      "authorship_tag": "ABX9TyM2PvcZNJCDDUoSYdoGeFH7",
      "include_colab_link": true
    },
    "kernelspec": {
      "name": "python3",
      "display_name": "Python 3"
    },
    "language_info": {
      "name": "python"
    }
  },
  "cells": [
    {
      "cell_type": "markdown",
      "metadata": {
        "id": "view-in-github",
        "colab_type": "text"
      },
      "source": [
        "<a href=\"https://colab.research.google.com/github/Prawin2005/CODSOFT-internship/blob/main/TASK_4_(Sales).ipynb\" target=\"_parent\"><img src=\"https://colab.research.google.com/assets/colab-badge.svg\" alt=\"Open In Colab\"/></a>"
      ]
    },
    {
      "cell_type": "code",
      "execution_count": 1,
      "metadata": {
        "colab": {
          "base_uri": "https://localhost:8080/"
        },
        "id": "-faqSwQWQnFY",
        "outputId": "e2689698-2eb5-41f8-a015-183678cf0c52"
      },
      "outputs": [
        {
          "output_type": "stream",
          "name": "stdout",
          "text": [
            "Columns in the dataset: Index(['TV', 'Radio', 'Newspaper', 'Sales'], dtype='object')\n",
            "Predicted Sales: [17.0347724  20.40974033 23.72398873  9.27278518 21.68271879 12.56940161\n",
            " 21.08119452  8.69035045 17.23701254 16.66657475  8.92396497  8.4817344\n",
            " 18.2075123   8.06750728 12.64550975 14.93162809  8.12814594 17.89876565\n",
            " 11.00880637 20.47832788 20.80631846 12.59883297 10.9051829  22.38854775\n",
            "  9.41796094  7.92506736 20.83908497 13.81520938 10.77080925  7.92682509\n",
            " 15.95947357 10.63490851 20.80292008 10.43434164 21.5784752  21.18364487\n",
            " 12.12821771 22.80953262 12.60992766  6.46441252]\n",
            "Root Mean Squared Error (RMSE): 1.7052146229349223\n",
            "Predicted Sales for advertising spend (TV=200, Radio=30, Newspaper=40): 18.81780731432812\n"
          ]
        }
      ],
      "source": [
        "import pandas as pd\n",
        "from sklearn.model_selection import train_test_split\n",
        "from sklearn.linear_model import LinearRegression\n",
        "from sklearn.metrics import mean_squared_error\n",
        "\n",
        "df = pd.read_csv('/content/advertising.csv')\n",
        "\n",
        "print(\"Columns in the dataset:\", df.columns)\n",
        "\n",
        "X = df[['TV', 'Radio', 'Newspaper']]\n",
        "y = df['Sales']\n",
        "\n",
        "X_train, X_test, y_train, y_test = train_test_split(X, y, test_size=0.2, random_state=42)\n",
        "\n",
        "model = LinearRegression()\n",
        "model.fit(X_train, y_train)\n",
        "\n",
        "y_pred = model.predict(X_test)\n",
        "\n",
        "mse = mean_squared_error(y_test, y_pred)\n",
        "rmse = mse ** 0.5\n",
        "\n",
        "print(\"Predicted Sales:\", y_pred)\n",
        "print(\"Root Mean Squared Error (RMSE):\", rmse)\n",
        "\n",
        "# Create a DataFrame for new_ad_spend with correct feature names\n",
        "new_ad_spend = pd.DataFrame([[200, 30, 40]], columns=['TV', 'Radio', 'Newspaper'])\n",
        "predicted_sales = model.predict(new_ad_spend)\n",
        "print(f\"Predicted Sales for advertising spend (TV=200, Radio=30, Newspaper=40): {predicted_sales[0]}\")"
      ]
    }
  ]
}